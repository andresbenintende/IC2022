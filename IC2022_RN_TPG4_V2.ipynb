{
  "nbformat": 4,
  "nbformat_minor": 0,
  "metadata": {
    "colab": {
      "provenance": [],
      "collapsed_sections": [
        "6Ibk-P_5063R",
        "SU2UGJqd-7kd",
        "n03x3PiK_5vs"
      ],
      "mount_file_id": "1kiUjodyjhyDoMnEsQ-Tx6wqGoe5RTFgZ",
      "authorship_tag": "ABX9TyOy5BYZitvtS8DmSeDglSE1",
      "include_colab_link": true
    },
    "kernelspec": {
      "name": "python3",
      "display_name": "Python 3"
    },
    "language_info": {
      "name": "python"
    }
  },
  "cells": [
    {
      "cell_type": "markdown",
      "metadata": {
        "id": "view-in-github",
        "colab_type": "text"
      },
      "source": [
        "<a href=\"https://colab.research.google.com/github/andresbenintende/IC2022/blob/main/IC2022_RN_TPG4_V2.ipynb\" target=\"_parent\"><img src=\"https://colab.research.google.com/assets/colab-badge.svg\" alt=\"Open In Colab\"/></a>"
      ]
    },
    {
      "cell_type": "markdown",
      "source": [
        "# Reconocimiento de Dígitos Hablados en Inglés\n",
        "\n",
        "---\n",
        "Este algoritmo tiene como objetivo predecir dígitos hablados en inglés utilizando la librería Keras en Python.\n",
        "\n",
        "Este documento presenta tres secciónes: \n",
        "- Sección 1: Extracción y tratamiento del dataset\n",
        "- Sección 2: Entrenamiento del modelo utilizando el dataset original (https://github.com/Jakobovski/free-spoken-digit-dataset)\n",
        "- Sección 3: Entrenamiento del modelo utilizando un conjunto de datos extra\n",
        "\n",
        "En la Sección 1 se toman los archivos .WAV y se guardan en archivos .CSV para luego ser almacenados utilizando la librería Pandas.\n",
        "\n",
        "En la Sección 2 se realiza el procesamiento de los datos, separándolos en datos de entrenamiento, validación y prueba. También se realiza la normalización, preprarándolos para ser ingresados en la Red Neuronal. Por último, se realiza el entrenamiento de la red neuronal, se efectúa la prueba de la misma y se exponen los resultados.\n",
        "\n",
        "En la Sección 3 es similar a la Sección 2, pero se incluyen datos extra, obtenidos de tres personas con acentos extranjeros:\n",
        "- Una niña con acento canadiense\n",
        "- Un hombre con acento hindú\n",
        "- Un hombre con acento brasileño\n",
        "\n",
        "\n"
      ],
      "metadata": {
        "id": "XkGc6PIYsmIm"
      }
    },
    {
      "cell_type": "markdown",
      "source": [
        "# Sección 1\n",
        "Se generan los archivos .CSV que almacenarán los datos que manejará el modelo.\n",
        "\n",
        "Datos de entrenamiento (train): /content/drive/MyDrive/IC2022-RN-G4/data/recordings/train\n",
        "\n",
        "Datos de prueba (test): /content/drive/MyDrive/IC2022-RN-G4/data/recordings/test\n",
        "\n",
        "Datos Extra para entrenamiento (extraTrainDatatrain): /content/drive/MyDrive/IC2022-RN-G4/data/recordings/TrainExtras\n",
        "\n",
        "Datos Extra para entrenamiento (extraTestDatatrain): /content/drive/MyDrive/IC2022-RN-G4/data/recordings/TestExtras"
      ],
      "metadata": {
        "id": "p7lAk43owS_l"
      }
    },
    {
      "cell_type": "code",
      "execution_count": null,
      "metadata": {
        "id": "UrY57y02hoE7"
      },
      "outputs": [],
      "source": [
        "# Si es True, se leen los archivos .WAV y se guardan sus características en archivos .CSV\n",
        "CREATE_CSV_FILES = True"
      ]
    },
    {
      "cell_type": "code",
      "source": [
        "# Se definen los nombres de los archivos .CSV\n",
        "TRAIN_CSV_FILE = \"train.csv\"\n",
        "TEST_CSV_FILE = \"test.csv\"\n",
        "EXTRA_TRAIN_CSV_FILE = \"extra_train.csv\"\n",
        "EXTRA_TEST_CSV_FILE = \"extra_test.csv\""
      ],
      "metadata": {
        "id": "B0jkGEkTs3uC"
      },
      "execution_count": null,
      "outputs": []
    },
    {
      "cell_type": "code",
      "source": [
        "# Se cargan las características de los archivos .WAV en los archivos .CSV\n",
        "import matplotlib.pyplot as plt\n",
        "import numpy as np\n",
        "from matplotlib import cm\n",
        "import librosa\n",
        "import csv\n",
        "import os\n",
        "\n",
        "def cargarCaractWAVs(carpetaWavs, nombreCSV):\n",
        "    print(\"Las características de los archivos de la carpeta \"+carpetaWavs+\" se guardarán en \"+nombreCSV)\n",
        "    header = 'nombre cromagrama raiz_media_cuadrada centroide_espectral ancho_banda_espectral rolloff zero_crossing_rate'\n",
        "    \n",
        "    for i in range(1, 21):\n",
        "        header += f' mfcc{i}'\n",
        "\n",
        "    header = header.split()\n",
        "    print('Cabecera CSV: ', header)\n",
        "    file = open(nombreCSV, 'w', newline='')\n",
        "    writer = csv.writer(file)\n",
        "    writer.writerow(header)\n",
        " \n",
        "    for nombre in os.listdir(carpetaWavs):\n",
        "        wavFile = f'{carpetaWavs}/{nombre}'\n",
        "        y, sr = librosa.load(wavFile, mono=True, duration=30)\n",
        "\n",
        "        # Remover silencios al inicio y fin del archivo\n",
        "        y, index = librosa.effects.trim(y)\n",
        "\n",
        "        cromagrama = librosa.feature.chroma_stft(y=y, sr=sr)\n",
        "        raiz_media_cuadrada = librosa.feature.rms(y=y)\n",
        "        spec_cent = librosa.feature.spectral_centroid(y=y, sr=sr)\n",
        "        spec_bw = librosa.feature.spectral_bandwidth(y=y, sr=sr)\n",
        "        rolloff = librosa.feature.spectral_rolloff(y=y, sr=sr)\n",
        "        zcr = librosa.feature.zero_crossing_rate(y)\n",
        "        mfcc = librosa.feature.mfcc(y=y, sr=sr)\n",
        "        to_append = f'{nombre} {np.mean(cromagrama)} {np.mean(raiz_media_cuadrada)} {np.mean(spec_cent)} {np.mean(spec_bw)} {np.mean(rolloff)} {np.mean(zcr)}'\n",
        "        for e in mfcc:\n",
        "            to_append += f' {np.mean(e)}'\n",
        "        writer.writerow(to_append.split())\n",
        "    file.close()\n",
        "    print(\"Fin cargarCaractWAVs\")\n",
        "\n",
        "if (CREATE_CSV_FILES == True):\n",
        "    cargarCaractWAVs(\"/content/drive/MyDrive/IC2022-RN-G4/data/recordings/train\", TRAIN_CSV_FILE)\n",
        "    cargarCaractWAVs(\"/content/drive/MyDrive/IC2022-RN-G4/data/recordings/test\", TEST_CSV_FILE)\n",
        "    cargarCaractWAVs(\"/content/drive/MyDrive/IC2022-RN-G4/data/recordings/TrainExtras\", EXTRA_TRAIN_CSV_FILE)\n",
        "    cargarCaractWAVs(\"/content/drive/MyDrive/IC2022-RN-G4/data/recordings/TestExtras\", EXTRA_TEST_CSV_FILE)\n",
        "    print(\"Se crearon los archivos CSV\")\n",
        "else:\n",
        "    print(\"Se omite la creación de archivos CSV\")"
      ],
      "metadata": {
        "colab": {
          "base_uri": "https://localhost:8080/"
        },
        "id": "z9_vLwgLtA2i",
        "outputId": "31089268-58c1-4ad8-cc24-65915555592e"
      },
      "execution_count": null,
      "outputs": [
        {
          "output_type": "stream",
          "name": "stdout",
          "text": [
            "Las características de los archivos de la carpeta /content/drive/MyDrive/IC2022-RN-G4/data/recordings/train se guardarán en train.csv\n",
            "Cabecera CSV:  ['nombre', 'cromagrama', 'raiz_media_cuadrada', 'centroide_espectral', 'ancho_banda_espectral', 'rolloff', 'zero_crossing_rate', 'mfcc1', 'mfcc2', 'mfcc3', 'mfcc4', 'mfcc5', 'mfcc6', 'mfcc7', 'mfcc8', 'mfcc9', 'mfcc10', 'mfcc11', 'mfcc12', 'mfcc13', 'mfcc14', 'mfcc15', 'mfcc16', 'mfcc17', 'mfcc18', 'mfcc19', 'mfcc20']\n",
            "Fin cargarCaractWAVs\n",
            "Las características de los archivos de la carpeta /content/drive/MyDrive/IC2022-RN-G4/data/recordings/test se guardarán en test.csv\n",
            "Cabecera CSV:  ['nombre', 'cromagrama', 'raiz_media_cuadrada', 'centroide_espectral', 'ancho_banda_espectral', 'rolloff', 'zero_crossing_rate', 'mfcc1', 'mfcc2', 'mfcc3', 'mfcc4', 'mfcc5', 'mfcc6', 'mfcc7', 'mfcc8', 'mfcc9', 'mfcc10', 'mfcc11', 'mfcc12', 'mfcc13', 'mfcc14', 'mfcc15', 'mfcc16', 'mfcc17', 'mfcc18', 'mfcc19', 'mfcc20']\n",
            "Fin cargarCaractWAVs\n",
            "Las características de los archivos de la carpeta /content/drive/MyDrive/IC2022-RN-G4/data/recordings/TrainExtras se guardarán en extra_train.csv\n",
            "Cabecera CSV:  ['nombre', 'cromagrama', 'raiz_media_cuadrada', 'centroide_espectral', 'ancho_banda_espectral', 'rolloff', 'zero_crossing_rate', 'mfcc1', 'mfcc2', 'mfcc3', 'mfcc4', 'mfcc5', 'mfcc6', 'mfcc7', 'mfcc8', 'mfcc9', 'mfcc10', 'mfcc11', 'mfcc12', 'mfcc13', 'mfcc14', 'mfcc15', 'mfcc16', 'mfcc17', 'mfcc18', 'mfcc19', 'mfcc20']\n",
            "Fin cargarCaractWAVs\n",
            "Las características de los archivos de la carpeta /content/drive/MyDrive/IC2022-RN-G4/data/recordings/TestExtras se guardarán en extra_test.csv\n",
            "Cabecera CSV:  ['nombre', 'cromagrama', 'raiz_media_cuadrada', 'centroide_espectral', 'ancho_banda_espectral', 'rolloff', 'zero_crossing_rate', 'mfcc1', 'mfcc2', 'mfcc3', 'mfcc4', 'mfcc5', 'mfcc6', 'mfcc7', 'mfcc8', 'mfcc9', 'mfcc10', 'mfcc11', 'mfcc12', 'mfcc13', 'mfcc14', 'mfcc15', 'mfcc16', 'mfcc17', 'mfcc18', 'mfcc19', 'mfcc20']\n",
            "Fin cargarCaractWAVs\n",
            "Se crearon los archivos CSV\n"
          ]
        }
      ]
    },
    {
      "cell_type": "code",
      "source": [
        "# Se lee el dataset y se convierte el nombre del archivo al número correspondiente\n",
        "\n",
        "import pandas as pd\n",
        "import csv\n",
        "from sklearn import preprocessing\n",
        "\n",
        "def preprocesamientoDatos(csvFileName):\n",
        "    print(\"Procesando \"+csvFileName+ \" ...\")\n",
        "    data = pd.read_csv(csvFileName)\n",
        "    \n",
        "    \n",
        "    filenames = data['nombre'].str[:1]\n",
        "    \n",
        "    data['numero'] = data['nombre'].str[:1].astype('int')\n",
        "\n",
        "    # Se borran las columnas innecesarias\n",
        "    data = data.drop(['nombre'],axis=1)\n",
        "    # data = data.drop(['label'],axis=1)\n",
        "    data = data.drop(['cromagrama'],axis=1)\n",
        "    data = data.drop(['raiz_media_cuadrada'],axis=1)\n",
        "    data = data.drop(['centroide_espectral'],axis=1)\n",
        "    data = data.drop(['ancho_banda_espectral'],axis=1)\n",
        "    data = data.drop(['rolloff'],axis=1)\n",
        "    data = data.drop(['zero_crossing_rate'],axis=1)\n",
        "    data = data.drop(['mfcc14'],axis=1)\n",
        "    data = data.drop(['mfcc15'],axis=1)\n",
        "    data = data.drop(['mfcc16'],axis=1)\n",
        "    data = data.drop(['mfcc17'],axis=1)\n",
        "    data = data.drop(['mfcc18'],axis=1)\n",
        "    data = data.drop(['mfcc19'],axis=1)\n",
        "    data = data.drop(['mfcc20'],axis=1)\n",
        "\n",
        "\n",
        "    data.shape\n",
        "\n",
        "    print(\"¡Preprocesamiento finalizado!\")\n",
        "    print(data.head())\n",
        "    return data\n",
        "\n",
        "trainData = preprocesamientoDatos(TRAIN_CSV_FILE)\n",
        "testData = preprocesamientoDatos(TEST_CSV_FILE)\n",
        "extraTrainData = preprocesamientoDatos(EXTRA_TRAIN_CSV_FILE)\n",
        "extraTestData = preprocesamientoDatos(EXTRA_TEST_CSV_FILE)"
      ],
      "metadata": {
        "colab": {
          "base_uri": "https://localhost:8080/"
        },
        "id": "d32PvuVo3HUN",
        "outputId": "a95e1e1e-7573-445e-f929-bcd7f8e1e92a"
      },
      "execution_count": null,
      "outputs": [
        {
          "output_type": "stream",
          "name": "stdout",
          "text": [
            "Procesando train.csv ...\n",
            "¡Preprocesamiento finalizado!\n",
            "        mfcc1       mfcc2      mfcc3      mfcc4      mfcc5      mfcc6  \\\n",
            "0 -322.060059  232.998245 -51.712025  15.939235  25.173307 -51.191761   \n",
            "1 -327.737579  218.564575 -25.355339  11.661521  32.653767 -25.412338   \n",
            "2 -376.365540  210.174469 -70.058014  47.193233  43.205830 -51.476475   \n",
            "3 -340.245453  230.760590  12.917267 -27.547201 -16.519947 -30.638094   \n",
            "4 -401.825195  180.382248 -34.075562  -9.537338  -0.483983 -40.458511   \n",
            "\n",
            "       mfcc7      mfcc8      mfcc9     mfcc10     mfcc11     mfcc12  \\\n",
            "0  -6.024467   3.923365 -30.153433  -0.162531  -3.064207 -26.272842   \n",
            "1 -19.948713 -18.408308 -18.401463   8.955441 -10.941829 -24.229969   \n",
            "2   6.149049   2.872602 -39.138718   1.506836  -7.685235 -23.114925   \n",
            "3 -22.246065 -15.906977 -14.278196  -5.393300 -16.164938 -17.637327   \n",
            "4  -2.278249   5.891305 -28.286612 -12.714354  -2.850939 -16.311764   \n",
            "\n",
            "      mfcc13  numero  \n",
            "0  -3.792849       9  \n",
            "1   3.586020       0  \n",
            "2  14.395788       6  \n",
            "3   2.295099       4  \n",
            "4 -10.026578       1  \n",
            "Procesando test.csv ...\n",
            "¡Preprocesamiento finalizado!\n",
            "        mfcc1       mfcc2      mfcc3      mfcc4      mfcc5      mfcc6  \\\n",
            "0 -528.811462  219.852921 -22.935833  -7.370600   0.827284 -38.975967   \n",
            "1 -561.098022  167.324722 -71.552994  34.616001  39.174534 -42.400860   \n",
            "2 -539.118591  217.114471 -69.287117  16.267723  37.367619 -41.313343   \n",
            "3 -524.566467  216.070465 -90.793823  -6.528989  22.479149 -47.827370   \n",
            "4 -352.864960  187.533432 -56.102840  48.516598  45.157181 -43.037979   \n",
            "\n",
            "      mfcc7     mfcc8      mfcc9     mfcc10     mfcc11     mfcc12     mfcc13  \\\n",
            "0 -8.415603 -5.442131 -19.853228   4.172232  -9.081599 -21.281000   6.835956   \n",
            "1 -2.224958 -3.553433 -26.322218   9.582229  -7.185471 -23.471579  10.913110   \n",
            "2 -3.153871  2.333382 -25.241478  10.270665   1.234665 -23.074350   2.096132   \n",
            "3  0.394377  9.070280 -22.628836  14.457067  11.774801 -13.752790   1.513664   \n",
            "4  3.181884  1.542494 -39.860363  -3.272687  -5.296403 -27.465197   3.582980   \n",
            "\n",
            "   numero  \n",
            "0       4  \n",
            "1       6  \n",
            "2       9  \n",
            "3       5  \n",
            "4       6  \n",
            "Procesando extra_train.csv ...\n",
            "¡Preprocesamiento finalizado!\n",
            "        mfcc1       mfcc2      mfcc3      mfcc4      mfcc5      mfcc6  \\\n",
            "0 -331.438049  101.028740  -2.766094  39.812141   9.318111  30.048428   \n",
            "1 -321.150757  133.906342 -32.096352   1.402003   4.936857  11.893144   \n",
            "2 -273.443909  201.311798 -73.495369 -21.894238  13.548925 -22.978846   \n",
            "3 -295.970703  207.567184 -19.989985 -29.416519  -9.285850  -0.362115   \n",
            "4 -378.131775  180.803284 -40.991516  22.486980  -8.948365  -7.447502   \n",
            "\n",
            "       mfcc7     mfcc8      mfcc9    mfcc10     mfcc11     mfcc12    mfcc13  \\\n",
            "0 -37.562302 -5.030479 -20.101736 -5.555996 -21.674417 -20.651840 -3.382654   \n",
            "1 -24.585384 -6.021670 -23.906355 -9.829387  -8.465599 -29.250832 -1.310695   \n",
            "2  -0.012737 -0.431068 -15.932426 -0.666542  -5.851599 -15.055882 -7.700183   \n",
            "3  19.712135 -1.511090 -22.131359  8.922304   6.600989 -19.131765 -8.479688   \n",
            "4  -5.588598 -5.559846 -20.091463 -9.890910 -17.617769 -32.612492 -4.706086   \n",
            "\n",
            "   numero  \n",
            "0       3  \n",
            "1       6  \n",
            "2       5  \n",
            "3       1  \n",
            "4       0  \n",
            "Procesando extra_test.csv ...\n",
            "¡Preprocesamiento finalizado!\n",
            "        mfcc1       mfcc2      mfcc3      mfcc4      mfcc5      mfcc6  \\\n",
            "0 -210.145248  182.551468 -39.944057   6.345419  -7.744311   3.579174   \n",
            "1 -251.943527   75.463326 -57.034195   6.342010 -36.734325  23.546108   \n",
            "2 -258.484619  153.190155 -38.194405   0.837915 -18.473522  -1.888772   \n",
            "3 -318.965912   99.438721 -31.473104  25.708130   8.038482   6.199367   \n",
            "4 -256.477020  129.693634 -44.495125  41.161983  -4.983344 -44.160809   \n",
            "\n",
            "       mfcc7      mfcc8      mfcc9     mfcc10     mfcc11     mfcc12  \\\n",
            "0 -25.637171  -7.316918  -2.420234 -29.478857 -22.715935 -25.726246   \n",
            "1 -46.223610  -4.751749 -21.937035  -3.642410  -7.120446  -9.833044   \n",
            "2 -28.044966  -6.463096  -0.801655 -19.396036 -23.573458 -23.505714   \n",
            "3 -34.715000  -4.313524 -15.678107  -1.797074 -14.199090 -15.940129   \n",
            "4 -16.837126 -15.911057 -17.367405 -18.903404  -1.374423   1.108040   \n",
            "\n",
            "      mfcc13  numero  \n",
            "0  -7.885590       9  \n",
            "1 -13.538564       6  \n",
            "2  -6.767204       5  \n",
            "3   0.498030       8  \n",
            "4  -7.185570       3  \n"
          ]
        }
      ]
    },
    {
      "cell_type": "markdown",
      "source": [
        "# Sección 2\n",
        "El dataset está compuesto por 1500 grabaciones, creadas por cuatro hablantes:\n",
        "Jackson, Nicolas y THeo\n",
        "A su vez, se divide de la siguiente manera:\n",
        "- Los datos de entrenamiento tienen 49 grabaciones para cada dígito de cada hablante: 1470 grabaciones en total. \n",
        "- Los datos de prueba tienen una grabación por cada dígito para cada hablante: 30 grabaciones en total.\n",
        "\n",
        "Los datos utilizados aquí provienen de las grabaciones almacenadas en:\n",
        "\n",
        "../datos/grabaciones/train\n",
        "\n",
        "../datos/grabaciones/test\n",
        "\n",
        "El modelo será entrenado para predecir el dígito hablado."
      ],
      "metadata": {
        "id": "6Ibk-P_5063R"
      }
    },
    {
      "cell_type": "code",
      "source": [
        "# Se separa el dataset en tres partes: entrenamiento, validación y prueba\n",
        "from sklearn.model_selection import train_test_split\n",
        "\n",
        "X = np.array(trainData.iloc[:, :-1], dtype = float)\n",
        "y = trainData.iloc[:, -1]\n",
        "X_train, X_val, y_train, y_val = train_test_split(X, y, test_size=0.3, random_state=42)\n",
        "\n",
        "\n",
        "X_test = np.array(testData.iloc[:, :-1], dtype = float)\n",
        "y_test = testData.iloc[:, -1]\n",
        "\n",
        "print(\"Cantidad de datos para el entrenamiento:\", y_train.shape[0])\n",
        "print(\"Cantidad de datos para la validación:\", y_val.shape[0])\n",
        "print(\"Cantidad de datos para la prueba:\", y_test.shape[0])"
      ],
      "metadata": {
        "colab": {
          "base_uri": "https://localhost:8080/"
        },
        "id": "n_mmmX7V3Res",
        "outputId": "d32bcace-4559-4ccb-f289-489c3db4df32"
      },
      "execution_count": null,
      "outputs": [
        {
          "output_type": "stream",
          "name": "stdout",
          "text": [
            "Cantidad de datos para el entrenamiento: 1029\n",
            "Cantidad de datos para la validación: 441\n",
            "Cantidad de datos para la prueba: 30\n"
          ]
        }
      ]
    },
    {
      "cell_type": "code",
      "source": [
        "# Se normaliza el dataset utilizando la librería StandarScaler\n",
        "from sklearn.preprocessing import StandardScaler\n",
        "import numpy as np\n",
        "\n",
        "scaler = StandardScaler()\n",
        "X_train = scaler.fit_transform( X_train )\n",
        "X_val = scaler.transform( X_val )\n",
        "X_test = scaler.transform( X_test )\n",
        "\n",
        "print(\"Datos de entrada para el entrenamiento\", X_train.shape)\n",
        "print(\"Datos de entrada para la validación\", X_val.shape)\n",
        "print(\"Datos de entrada para la prueba\", X_test.shape)"
      ],
      "metadata": {
        "colab": {
          "base_uri": "https://localhost:8080/"
        },
        "id": "VrIubPjc3ZO0",
        "outputId": "33d53646-172e-4489-f5ad-7a3d7cda967d"
      },
      "execution_count": null,
      "outputs": [
        {
          "output_type": "stream",
          "name": "stdout",
          "text": [
            "Datos de entrada para el entrenamiento (1029, 13)\n",
            "Datos de entrada para la validación (441, 13)\n",
            "Datos de entrada para la prueba (30, 13)\n"
          ]
        }
      ]
    },
    {
      "cell_type": "code",
      "source": [
        "# Se crea el modelo de RN. Utilizamos Keras\n",
        "from keras import models\n",
        "from keras import layers\n",
        "import keras\n",
        "\n",
        "# Modelo\n",
        "modelo = models.Sequential()\n",
        "modelo.add(layers.Dense(256, activation='relu', input_shape=(X_train.shape[1],)))\n",
        "modelo.add(layers.Dropout(0.5))\n",
        "modelo.add(layers.Dense(128, activation='relu'))\n",
        "modelo.add(layers.Dropout(0.5))\n",
        "modelo.add(layers.Dense(64, activation='relu'))\n",
        "modelo.add(layers.Dropout(0.5))\n",
        "modelo.add(layers.Dense(10, activation='softmax'))\n",
        "\n",
        "# Proceso de aprendizaje del modelo\n",
        "modelo.compile(optimizer='adam',\n",
        "              loss='sparse_categorical_crossentropy',\n",
        "              metrics=['accuracy'])\n",
        "\n",
        "# Parada temprana con 3 épocas de paciencia (sin este valor, el entranamiento finaliza en la segunda época)\n",
        "from keras.callbacks import EarlyStopping\n",
        "\n",
        "es = EarlyStopping(monitor='val_loss', mode='min', verbose=1, patience=4)\n",
        "\n",
        "# Entrenamiento del modelo con 50 épocas y parada temprana para evitar sobre-entrenamiento\n",
        "historia = modelo.fit(X_train,y_train,\n",
        "                    validation_data=(X_val, y_val),\n",
        "                    epochs=50,\n",
        "                    batch_size=128,\n",
        "                    callbacks=[es])"
      ],
      "metadata": {
        "colab": {
          "base_uri": "https://localhost:8080/"
        },
        "id": "0ngCP1G-3cnU",
        "outputId": "282ff72b-061e-41bd-f8c1-dabb967eb7db"
      },
      "execution_count": null,
      "outputs": [
        {
          "output_type": "stream",
          "name": "stdout",
          "text": [
            "Epoch 1/50\n",
            "9/9 [==============================] - 1s 25ms/step - loss: 2.3310 - accuracy: 0.1312 - val_loss: 2.1108 - val_accuracy: 0.4807\n",
            "Epoch 2/50\n",
            "9/9 [==============================] - 0s 9ms/step - loss: 2.1720 - accuracy: 0.2119 - val_loss: 1.9996 - val_accuracy: 0.5646\n",
            "Epoch 3/50\n",
            "9/9 [==============================] - 0s 7ms/step - loss: 2.0517 - accuracy: 0.2770 - val_loss: 1.8750 - val_accuracy: 0.6236\n",
            "Epoch 4/50\n",
            "9/9 [==============================] - 0s 9ms/step - loss: 1.9715 - accuracy: 0.2974 - val_loss: 1.7279 - val_accuracy: 0.6508\n",
            "Epoch 5/50\n",
            "9/9 [==============================] - 0s 7ms/step - loss: 1.8532 - accuracy: 0.3450 - val_loss: 1.5745 - val_accuracy: 0.6304\n",
            "Epoch 6/50\n",
            "9/9 [==============================] - 0s 9ms/step - loss: 1.7087 - accuracy: 0.3926 - val_loss: 1.4184 - val_accuracy: 0.6871\n",
            "Epoch 7/50\n",
            "9/9 [==============================] - 0s 7ms/step - loss: 1.6137 - accuracy: 0.4334 - val_loss: 1.2632 - val_accuracy: 0.7007\n",
            "Epoch 8/50\n",
            "9/9 [==============================] - 0s 7ms/step - loss: 1.5184 - accuracy: 0.4655 - val_loss: 1.1195 - val_accuracy: 0.7347\n",
            "Epoch 9/50\n",
            "9/9 [==============================] - 0s 7ms/step - loss: 1.3956 - accuracy: 0.4985 - val_loss: 1.0234 - val_accuracy: 0.7460\n",
            "Epoch 10/50\n",
            "9/9 [==============================] - 0s 8ms/step - loss: 1.3117 - accuracy: 0.5248 - val_loss: 0.9347 - val_accuracy: 0.7710\n",
            "Epoch 11/50\n",
            "9/9 [==============================] - 0s 7ms/step - loss: 1.2720 - accuracy: 0.5394 - val_loss: 0.8652 - val_accuracy: 0.7868\n",
            "Epoch 12/50\n",
            "9/9 [==============================] - 0s 7ms/step - loss: 1.2033 - accuracy: 0.5569 - val_loss: 0.7962 - val_accuracy: 0.7800\n",
            "Epoch 13/50\n",
            "9/9 [==============================] - 0s 7ms/step - loss: 1.1421 - accuracy: 0.5695 - val_loss: 0.7503 - val_accuracy: 0.7937\n",
            "Epoch 14/50\n",
            "9/9 [==============================] - 0s 7ms/step - loss: 1.1156 - accuracy: 0.5666 - val_loss: 0.7301 - val_accuracy: 0.7823\n",
            "Epoch 15/50\n",
            "9/9 [==============================] - 0s 8ms/step - loss: 1.0555 - accuracy: 0.6152 - val_loss: 0.6959 - val_accuracy: 0.7959\n",
            "Epoch 16/50\n",
            "9/9 [==============================] - 0s 7ms/step - loss: 1.0544 - accuracy: 0.6113 - val_loss: 0.6703 - val_accuracy: 0.8277\n",
            "Epoch 17/50\n",
            "9/9 [==============================] - 0s 7ms/step - loss: 1.0102 - accuracy: 0.6278 - val_loss: 0.6390 - val_accuracy: 0.8231\n",
            "Epoch 18/50\n",
            "9/9 [==============================] - 0s 7ms/step - loss: 0.9314 - accuracy: 0.6463 - val_loss: 0.6012 - val_accuracy: 0.8390\n",
            "Epoch 19/50\n",
            "9/9 [==============================] - 0s 7ms/step - loss: 0.9158 - accuracy: 0.6618 - val_loss: 0.5729 - val_accuracy: 0.8526\n",
            "Epoch 20/50\n",
            "9/9 [==============================] - 0s 8ms/step - loss: 0.8603 - accuracy: 0.6997 - val_loss: 0.5444 - val_accuracy: 0.8617\n",
            "Epoch 21/50\n",
            "9/9 [==============================] - 0s 9ms/step - loss: 0.8514 - accuracy: 0.6764 - val_loss: 0.5250 - val_accuracy: 0.8776\n",
            "Epoch 22/50\n",
            "9/9 [==============================] - 0s 7ms/step - loss: 0.8861 - accuracy: 0.6589 - val_loss: 0.5106 - val_accuracy: 0.8798\n",
            "Epoch 23/50\n",
            "9/9 [==============================] - 0s 7ms/step - loss: 0.8332 - accuracy: 0.7114 - val_loss: 0.4950 - val_accuracy: 0.8685\n",
            "Epoch 24/50\n",
            "9/9 [==============================] - 0s 10ms/step - loss: 0.7803 - accuracy: 0.7191 - val_loss: 0.4785 - val_accuracy: 0.8707\n",
            "Epoch 25/50\n",
            "9/9 [==============================] - 0s 7ms/step - loss: 0.7768 - accuracy: 0.7172 - val_loss: 0.4620 - val_accuracy: 0.8685\n",
            "Epoch 26/50\n",
            "9/9 [==============================] - 0s 7ms/step - loss: 0.8099 - accuracy: 0.6861 - val_loss: 0.4569 - val_accuracy: 0.8571\n",
            "Epoch 27/50\n",
            "9/9 [==============================] - 0s 8ms/step - loss: 0.7520 - accuracy: 0.7201 - val_loss: 0.4423 - val_accuracy: 0.8753\n",
            "Epoch 28/50\n",
            "9/9 [==============================] - 0s 7ms/step - loss: 0.7342 - accuracy: 0.7240 - val_loss: 0.4258 - val_accuracy: 0.8776\n",
            "Epoch 29/50\n",
            "9/9 [==============================] - 0s 8ms/step - loss: 0.7209 - accuracy: 0.7347 - val_loss: 0.4164 - val_accuracy: 0.8821\n",
            "Epoch 30/50\n",
            "9/9 [==============================] - 0s 7ms/step - loss: 0.6484 - accuracy: 0.7629 - val_loss: 0.3980 - val_accuracy: 0.8866\n",
            "Epoch 31/50\n",
            "9/9 [==============================] - 0s 7ms/step - loss: 0.6607 - accuracy: 0.7473 - val_loss: 0.3924 - val_accuracy: 0.8866\n",
            "Epoch 32/50\n",
            "9/9 [==============================] - 0s 7ms/step - loss: 0.7015 - accuracy: 0.7561 - val_loss: 0.3911 - val_accuracy: 0.8776\n",
            "Epoch 33/50\n",
            "9/9 [==============================] - 0s 9ms/step - loss: 0.6494 - accuracy: 0.7648 - val_loss: 0.3812 - val_accuracy: 0.8730\n",
            "Epoch 34/50\n",
            "9/9 [==============================] - 0s 8ms/step - loss: 0.6007 - accuracy: 0.7813 - val_loss: 0.3686 - val_accuracy: 0.8821\n",
            "Epoch 35/50\n",
            "9/9 [==============================] - 0s 9ms/step - loss: 0.6293 - accuracy: 0.7697 - val_loss: 0.3580 - val_accuracy: 0.8866\n",
            "Epoch 36/50\n",
            "9/9 [==============================] - 0s 9ms/step - loss: 0.5895 - accuracy: 0.7833 - val_loss: 0.3555 - val_accuracy: 0.8866\n",
            "Epoch 37/50\n",
            "9/9 [==============================] - 0s 9ms/step - loss: 0.6013 - accuracy: 0.7784 - val_loss: 0.3533 - val_accuracy: 0.8821\n",
            "Epoch 38/50\n",
            "9/9 [==============================] - 0s 8ms/step - loss: 0.5488 - accuracy: 0.7940 - val_loss: 0.3439 - val_accuracy: 0.8844\n",
            "Epoch 39/50\n",
            "9/9 [==============================] - 0s 7ms/step - loss: 0.5222 - accuracy: 0.8086 - val_loss: 0.3496 - val_accuracy: 0.8798\n",
            "Epoch 40/50\n",
            "9/9 [==============================] - 0s 7ms/step - loss: 0.5626 - accuracy: 0.8163 - val_loss: 0.3422 - val_accuracy: 0.8844\n",
            "Epoch 41/50\n",
            "9/9 [==============================] - 0s 10ms/step - loss: 0.5425 - accuracy: 0.8066 - val_loss: 0.3246 - val_accuracy: 0.8934\n",
            "Epoch 42/50\n",
            "9/9 [==============================] - 0s 9ms/step - loss: 0.5323 - accuracy: 0.8017 - val_loss: 0.3219 - val_accuracy: 0.8957\n",
            "Epoch 43/50\n",
            "9/9 [==============================] - 0s 9ms/step - loss: 0.5255 - accuracy: 0.8086 - val_loss: 0.3234 - val_accuracy: 0.8980\n",
            "Epoch 44/50\n",
            "9/9 [==============================] - 0s 7ms/step - loss: 0.5437 - accuracy: 0.8124 - val_loss: 0.3235 - val_accuracy: 0.8934\n",
            "Epoch 45/50\n",
            "9/9 [==============================] - 0s 7ms/step - loss: 0.5206 - accuracy: 0.8212 - val_loss: 0.3299 - val_accuracy: 0.8821\n",
            "Epoch 46/50\n",
            "9/9 [==============================] - 0s 9ms/step - loss: 0.5251 - accuracy: 0.8183 - val_loss: 0.3319 - val_accuracy: 0.8776\n",
            "Epoch 46: early stopping\n"
          ]
        }
      ]
    },
    {
      "cell_type": "code",
      "source": [
        "# Representación gráfica del entrenamiento\n",
        "from matplotlib import pyplot\n",
        "pyplot.plot(historia.history['loss'], label='entrenamiento')\n",
        "pyplot.plot(historia.history['val_loss'], label='prueba')\n",
        "pyplot.legend()\n",
        "pyplot.show()"
      ],
      "metadata": {
        "colab": {
          "base_uri": "https://localhost:8080/",
          "height": 265
        },
        "id": "4pO7HmRVID58",
        "outputId": "a60c7158-f23e-4250-c1bf-f4925e1415ec"
      },
      "execution_count": null,
      "outputs": [
        {
          "output_type": "display_data",
          "data": {
            "text/plain": [
              "<Figure size 432x288 with 1 Axes>"
            ],
            "image/png": "[encoded data removed]"
          },
          "metadata": {
            "needs_background": "light"
          }
        }
      ]
    },
    {
      "cell_type": "markdown",
      "source": [
        "# Funciones auxiliares\n",
        "Estas funciones sirven para presentar los resultados obtenidos:\n",
        "- mostrarPrediccion: muestra el resultado de la predicción de los datos de prueba.\n",
        "- reporte: muestra un reporte de los resultados utilizando una matriz de confusión"
      ],
      "metadata": {
        "id": "SU2UGJqd-7kd"
      }
    },
    {
      "cell_type": "code",
      "source": [
        "# Función para imprimir el resultado de las predicciones\n",
        "def mostrarPrediccion(X_data, y_data):\n",
        "    print('\\n# Generando predicciones...')\n",
        "    for i in range(len(y_data)):\n",
        "        prediction = np.argmax(modelo.predict(X_data[i:i+1]),axis=1)\n",
        "        print(\"y={} | predicción={} | Coincidencia={}\".format(y_data[i], prediction, y_data[i]==float(prediction[0])))"
      ],
      "metadata": {
        "id": "7pr16sGPIVYb"
      },
      "execution_count": null,
      "outputs": []
    },
    {
      "cell_type": "code",
      "source": [
        "# Función para generar matriz de confusión y un reporte de clasificación\n",
        "import numpy as np\n",
        "from keras import backend as K\n",
        "from keras.models import Sequential\n",
        "from keras.layers.core import Dense, Dropout, Activation, Flatten\n",
        "from keras.layers.convolutional import Convolution2D, MaxPooling2D\n",
        "from keras.preprocessing.image import ImageDataGenerator\n",
        "from sklearn.metrics import classification_report, confusion_matrix\n",
        "\n",
        "def reporte(X_data, y_data):\n",
        "    Y_pred = np.argmax(modelo.predict(X_data),axis=1)\n",
        "    \n",
        "    y_test_num = y_data.astype(np.int64)\n",
        "    print('Matriz de Confusión')\n",
        "    conf_mt = confusion_matrix(y_test_num, Y_pred)\n",
        "    print(conf_mt)\n",
        "    plt.matshow(conf_mt)\n",
        "    plt.show()\n",
        "    \n",
        "    print('\\nReporte de Clasificación')\n",
        "    target_names = ['0', '1', '2', '3', '4', '5', '6', '7', '8', '9']\n",
        "    print(classification_report(y_test_num, Y_pred, target_names=target_names))"
      ],
      "metadata": {
        "id": "N2frUfbVIYs6"
      },
      "execution_count": null,
      "outputs": []
    },
    {
      "cell_type": "markdown",
      "source": [
        "# Presentación de la performance del modelo"
      ],
      "metadata": {
        "id": "n03x3PiK_5vs"
      }
    },
    {
      "cell_type": "code",
      "source": [
        "print('\\n# DATOS DE PRUEBA #\\n')\n",
        "puntaje = modelo.evaluate(X_test, y_test)\n",
        "print(\"%s: %.2f%%\" % (modelo.metrics_names[1], puntaje[1]*100))\n",
        "\n",
        "# Predicción\n",
        "mostrarPrediccion(X_test, y_test)"
      ],
      "metadata": {
        "colab": {
          "base_uri": "https://localhost:8080/"
        },
        "id": "OgnqHV8aIbbz",
        "outputId": "f313180c-7eb2-40f6-ad14-0f2ee3a49a24"
      },
      "execution_count": null,
      "outputs": [
        {
          "output_type": "stream",
          "name": "stdout",
          "text": [
            "\n",
            "# DATOS DE PRUEBA #\n",
            "\n",
            "1/1 [==============================] - 0s 19ms/step - loss: 0.3216 - accuracy: 0.9000\n",
            "accuracy: 90.00%\n",
            "\n",
            "# Generando predicciones...\n",
            "y=4 | predicción=[4] | Coincidencia=True\n",
            "y=6 | predicción=[6] | Coincidencia=True\n",
            "y=9 | predicción=[9] | Coincidencia=True\n",
            "y=5 | predicción=[5] | Coincidencia=True\n",
            "y=6 | predicción=[6] | Coincidencia=True\n",
            "y=4 | predicción=[4] | Coincidencia=True\n",
            "y=0 | predicción=[0] | Coincidencia=True\n",
            "y=7 | predicción=[7] | Coincidencia=True\n",
            "y=9 | predicción=[9] | Coincidencia=True\n",
            "y=1 | predicción=[1] | Coincidencia=True\n",
            "y=8 | predicción=[8] | Coincidencia=True\n",
            "y=0 | predicción=[0] | Coincidencia=True\n",
            "y=8 | predicción=[8] | Coincidencia=True\n",
            "y=0 | predicción=[2] | Coincidencia=False\n",
            "y=2 | predicción=[2] | Coincidencia=True\n",
            "y=1 | predicción=[1] | Coincidencia=True\n",
            "y=5 | predicción=[5] | Coincidencia=True\n",
            "y=5 | predicción=[5] | Coincidencia=True\n",
            "y=3 | predicción=[3] | Coincidencia=True\n",
            "y=4 | predicción=[4] | Coincidencia=True\n",
            "y=6 | predicción=[6] | Coincidencia=True\n",
            "y=1 | predicción=[4] | Coincidencia=False\n",
            "y=8 | predicción=[8] | Coincidencia=True\n",
            "y=3 | predicción=[3] | Coincidencia=True\n",
            "y=2 | predicción=[2] | Coincidencia=True\n",
            "y=7 | predicción=[7] | Coincidencia=True\n",
            "y=7 | predicción=[7] | Coincidencia=True\n",
            "y=2 | predicción=[3] | Coincidencia=False\n",
            "y=9 | predicción=[9] | Coincidencia=True\n",
            "y=3 | predicción=[3] | Coincidencia=True\n"
          ]
        }
      ]
    },
    {
      "cell_type": "code",
      "source": [
        "print(\"Reporte de Clasificación para Datos de Prueba\\n\")\n",
        "reporte(X_test, y_test)"
      ],
      "metadata": {
        "colab": {
          "base_uri": "https://localhost:8080/",
          "height": 955
        },
        "id": "gFS3Xxa5PQwb",
        "outputId": "48af0ac2-e61b-4eae-b7d1-993fb8c7664c"
      },
      "execution_count": null,
      "outputs": [
        {
          "output_type": "stream",
          "name": "stdout",
          "text": [
            "Reporte de Clasificación para Datos de Prueba\n",
            "\n",
            "Matriz de Confusión\n",
            "[[0 0 1 1 1 0 0 0 0 0]\n",
            " [0 1 0 0 1 1 0 0 0 0]\n",
            " [0 0 2 1 0 0 0 0 0 0]\n",
            " [0 0 0 2 0 0 0 0 1 0]\n",
            " [0 1 0 0 2 0 0 0 0 0]\n",
            " [0 1 0 0 0 2 0 0 0 0]\n",
            " [0 0 0 0 1 0 0 0 1 1]\n",
            " [0 0 0 1 0 0 0 0 1 1]\n",
            " [0 0 0 0 0 0 0 0 3 0]\n",
            " [0 0 0 0 0 1 0 0 0 2]]\n"
          ]
        },
        {
          "output_type": "display_data",
          "data": {
            "text/plain": [
              "<Figure size 288x288 with 1 Axes>"
            ],
            "image/png": "[encoded data removed]"
          },
          "metadata": {
            "needs_background": "light"
          }
        },
        {
          "output_type": "stream",
          "name": "stdout",
          "text": [
            "\n",
            "Reporte de Clasificación\n",
            "              precision    recall  f1-score   support\n",
            "\n",
            "           0       0.00      0.00      0.00         3\n",
            "           1       0.33      0.33      0.33         3\n",
            "           2       0.67      0.67      0.67         3\n",
            "           3       0.40      0.67      0.50         3\n",
            "           4       0.40      0.67      0.50         3\n",
            "           5       0.50      0.67      0.57         3\n",
            "           6       0.00      0.00      0.00         3\n",
            "           7       0.00      0.00      0.00         3\n",
            "           8       0.50      1.00      0.67         3\n",
            "           9       0.50      0.67      0.57         3\n",
            "\n",
            "    accuracy                           0.47        30\n",
            "   macro avg       0.33      0.47      0.38        30\n",
            "weighted avg       0.33      0.47      0.38        30\n",
            "\n"
          ]
        },
        {
          "output_type": "stream",
          "name": "stderr",
          "text": [
            "/usr/local/lib/python3.7/dist-packages/sklearn/metrics/_classification.py:1318: UndefinedMetricWarning: Precision and F-score are ill-defined and being set to 0.0 in labels with no predicted samples. Use `zero_division` parameter to control this behavior.\n",
            "  _warn_prf(average, modifier, msg_start, len(result))\n",
            "/usr/local/lib/python3.7/dist-packages/sklearn/metrics/_classification.py:1318: UndefinedMetricWarning: Precision and F-score are ill-defined and being set to 0.0 in labels with no predicted samples. Use `zero_division` parameter to control this behavior.\n",
            "  _warn_prf(average, modifier, msg_start, len(result))\n",
            "/usr/local/lib/python3.7/dist-packages/sklearn/metrics/_classification.py:1318: UndefinedMetricWarning: Precision and F-score are ill-defined and being set to 0.0 in labels with no predicted samples. Use `zero_division` parameter to control this behavior.\n",
            "  _warn_prf(average, modifier, msg_start, len(result))\n"
          ]
        }
      ]
    },
    {
      "cell_type": "markdown",
      "source": [
        "# Sección 3\n",
        "Además del dataset utilizado en la Sección 2, se agregan 60 grabaciones extra de personas con acentos especiales:\n",
        "- **Caroline**: Niña canadiense\n",
        "- **Ankur**: Hombre originario de India\n",
        "- **Rodolfo**: Hombre originario de Brasil\n",
        "\n",
        "Cada uno de los hablantes generó, para cada dígito, una grabación para entrenamiento y una para pruebas.\n",
        "\n",
        "Por lo tanto, el conjunto de datos completo tiene:\n",
        "\n",
        "- Entrenamiento: 1500 grabaciones\n",
        "- Prueba: 60 grabaciones\n",
        "Los datos utilizados aquí provienen de las grabaciones almacenadas en:\n",
        "\n",
        "../datos/grabaciones/train\n",
        "\n",
        "../datos/grabaciones/test\n",
        "\n",
        "../data/recordings/TrainExtras\n",
        "\n",
        "../data/recordings/TestExtras\n"
      ],
      "metadata": {
        "id": "cmYupxELn98l"
      }
    },
    {
      "cell_type": "code",
      "source": [
        "# Se separa el dataset en tres partes: entrenamiento, validación y prueba\n",
        "from sklearn.model_selection import train_test_split\n",
        "\n",
        "datosTrain = trainData.append(extraTrainData)\n",
        "\n",
        "X = np.array(datosTrain.iloc[:, :-1], dtype = float)\n",
        "y = datosTrain.iloc[:, -1]\n",
        "X_train, X_val, y_train, y_val = train_test_split(X, y, test_size=0.3, random_state=42)\n",
        "\n",
        "X_test = np.array(testData.iloc[:, :-1], dtype = float)\n",
        "y_test = testData.iloc[:, -1]\n",
        "\n",
        "X_extra_test = np.array(extraTestData.iloc[:, :-1], dtype = float)\n",
        "y_extra_test = extraTestData.iloc[:, -1]\n",
        "\n",
        "print(\"Cantidad de datos para el entrenamiento:\", y_train.shape[0])\n",
        "print(\"Cantidad de datos para la validación:\", y_val.shape[0])\n",
        "print(\"Cantidad de datos para la prueba:\", y_test.shape[0])\n",
        "print(\"Cantidad de datos extra para la prueba:\", y_extra_test.shape[0])"
      ],
      "metadata": {
        "colab": {
          "base_uri": "https://localhost:8080/"
        },
        "id": "hVfM8K4lPZa8",
        "outputId": "224f6f91-22f0-4dcc-f037-3a8f0a28e4c5"
      },
      "execution_count": null,
      "outputs": [
        {
          "output_type": "stream",
          "name": "stdout",
          "text": [
            "Cantidad de datos para el entrenamiento: 1050\n",
            "Cantidad de datos para la validación: 450\n",
            "Cantidad de datos para la prueba: 30\n",
            "Cantidad de datos extra para la prueba: 30\n"
          ]
        }
      ]
    },
    {
      "cell_type": "code",
      "source": [
        "# Se normaliza el dataset utilizando la librería StandarScaler\n",
        "from sklearn.preprocessing import StandardScaler\n",
        "import numpy as np\n",
        "scaler = StandardScaler()\n",
        "X_train = scaler.fit_transform( X_train )\n",
        "X_val = scaler.transform( X_val )\n",
        "X_test = scaler.transform( X_test )\n",
        "X_extra_test = scaler.transform( X_extra_test )\n",
        "\n",
        "print(\"Datos de entrada para el entrenamiento\", X_train.shape)\n",
        "print(\"Datos de entrada para la validación\", X_val.shape)\n",
        "print(\"Datos de entrada para la prueba\", X_test.shape)\n",
        "print(\"Datos extra de entrada para la prueba\", X_extra_test.shape)"
      ],
      "metadata": {
        "colab": {
          "base_uri": "https://localhost:8080/"
        },
        "id": "7Y4xLAqEPc6s",
        "outputId": "c0c2add5-bb08-4bf3-a16f-2329e53aa8b0"
      },
      "execution_count": null,
      "outputs": [
        {
          "output_type": "stream",
          "name": "stdout",
          "text": [
            "Datos de entrada para el entrenamiento (1050, 13)\n",
            "Datos de entrada para la validación (450, 13)\n",
            "Datos de entrada para la prueba (30, 13)\n",
            "Datos extra de entrada para la prueba (30, 13)\n"
          ]
        }
      ]
    },
    {
      "cell_type": "code",
      "source": [
        "# Se crea el modelo de RN. Utilizamos Keras\n",
        "from keras import models\n",
        "from keras import layers\n",
        "import keras\n",
        "\n",
        "# Modelo\n",
        "modelo = models.Sequential()\n",
        "modelo.add(layers.Dense(256, activation='relu', input_shape=(X_train.shape[1],)))\n",
        "modelo.add(layers.Dropout(0.5))\n",
        "modelo.add(layers.Dense(128, activation='relu'))\n",
        "modelo.add(layers.Dropout(0.5))\n",
        "modelo.add(layers.Dense(64, activation='relu'))\n",
        "modelo.add(layers.Dropout(0.5))\n",
        "modelo.add(layers.Dense(10, activation='softmax'))\n",
        "\n",
        "# Proceso de Aprendizaje del modelo\n",
        "modelo.compile(optimizer='adam',\n",
        "              loss='sparse_categorical_crossentropy',\n",
        "              metrics=['accuracy'])\n",
        "\n",
        "# Parada temprana con 3 épocas de paciencia (sin este valor, el entranamiento finaliza en la segunda época)\n",
        "from keras.callbacks import EarlyStopping\n",
        "\n",
        "es = EarlyStopping(monitor='val_loss', mode='min', verbose=1, patience=3)\n",
        "\n",
        "# Entrenamiento del modelo con 50 épocas y parada temprana para evitar sobre-entrenamiento\n",
        "historia = modelo.fit(X_train,\n",
        "                    y_train,\n",
        "                    validation_data=(X_val, y_val),\n",
        "                    epochs=50,\n",
        "                    batch_size=128,\n",
        "                    callbacks=[es])"
      ],
      "metadata": {
        "colab": {
          "base_uri": "https://localhost:8080/"
        },
        "id": "A7F4Y3ZAPhv0",
        "outputId": "37155efd-0acf-4dd3-c8e2-296f8c05d390"
      },
      "execution_count": null,
      "outputs": [
        {
          "output_type": "stream",
          "name": "stdout",
          "text": [
            "Epoch 1/50\n",
            "9/9 [==============================] - 1s 23ms/step - loss: 2.3559 - accuracy: 0.1143 - val_loss: 2.1794 - val_accuracy: 0.3533\n",
            "Epoch 2/50\n",
            "9/9 [==============================] - 0s 7ms/step - loss: 2.2139 - accuracy: 0.1848 - val_loss: 2.0912 - val_accuracy: 0.4600\n",
            "Epoch 3/50\n",
            "9/9 [==============================] - 0s 8ms/step - loss: 2.1199 - accuracy: 0.2267 - val_loss: 1.9674 - val_accuracy: 0.5333\n",
            "Epoch 4/50\n",
            "9/9 [==============================] - 0s 7ms/step - loss: 2.0290 - accuracy: 0.2657 - val_loss: 1.8077 - val_accuracy: 0.5622\n",
            "Epoch 5/50\n",
            "9/9 [==============================] - 0s 7ms/step - loss: 1.8811 - accuracy: 0.3467 - val_loss: 1.6203 - val_accuracy: 0.5778\n",
            "Epoch 6/50\n",
            "9/9 [==============================] - 0s 8ms/step - loss: 1.7611 - accuracy: 0.3638 - val_loss: 1.4283 - val_accuracy: 0.6489\n",
            "Epoch 7/50\n",
            "9/9 [==============================] - 0s 9ms/step - loss: 1.6632 - accuracy: 0.3800 - val_loss: 1.2478 - val_accuracy: 0.7200\n",
            "Epoch 8/50\n",
            "9/9 [==============================] - 0s 9ms/step - loss: 1.5296 - accuracy: 0.4457 - val_loss: 1.1076 - val_accuracy: 0.7556\n",
            "Epoch 9/50\n",
            "9/9 [==============================] - 0s 9ms/step - loss: 1.4206 - accuracy: 0.4895 - val_loss: 0.9892 - val_accuracy: 0.7667\n",
            "Epoch 10/50\n",
            "9/9 [==============================] - 0s 6ms/step - loss: 1.3053 - accuracy: 0.5400 - val_loss: 0.8964 - val_accuracy: 0.7889\n",
            "Epoch 11/50\n",
            "9/9 [==============================] - 0s 8ms/step - loss: 1.2396 - accuracy: 0.5581 - val_loss: 0.8283 - val_accuracy: 0.8022\n",
            "Epoch 12/50\n",
            "9/9 [==============================] - 0s 7ms/step - loss: 1.1471 - accuracy: 0.5819 - val_loss: 0.7707 - val_accuracy: 0.8156\n",
            "Epoch 13/50\n",
            "9/9 [==============================] - 0s 7ms/step - loss: 1.1168 - accuracy: 0.5829 - val_loss: 0.7133 - val_accuracy: 0.8156\n",
            "Epoch 14/50\n",
            "9/9 [==============================] - 0s 7ms/step - loss: 1.0712 - accuracy: 0.6181 - val_loss: 0.6776 - val_accuracy: 0.8089\n",
            "Epoch 15/50\n",
            "9/9 [==============================] - 0s 7ms/step - loss: 1.0355 - accuracy: 0.6371 - val_loss: 0.6261 - val_accuracy: 0.8467\n",
            "Epoch 16/50\n",
            "9/9 [==============================] - 0s 7ms/step - loss: 0.9998 - accuracy: 0.6381 - val_loss: 0.5981 - val_accuracy: 0.8733\n",
            "Epoch 17/50\n",
            "9/9 [==============================] - 0s 7ms/step - loss: 0.9091 - accuracy: 0.6867 - val_loss: 0.5730 - val_accuracy: 0.8667\n",
            "Epoch 18/50\n",
            "9/9 [==============================] - 0s 7ms/step - loss: 0.9255 - accuracy: 0.6667 - val_loss: 0.5507 - val_accuracy: 0.8689\n",
            "Epoch 19/50\n",
            "9/9 [==============================] - 0s 7ms/step - loss: 0.9085 - accuracy: 0.6771 - val_loss: 0.5320 - val_accuracy: 0.8711\n",
            "Epoch 20/50\n",
            "9/9 [==============================] - 0s 9ms/step - loss: 0.8632 - accuracy: 0.6781 - val_loss: 0.5108 - val_accuracy: 0.8733\n",
            "Epoch 21/50\n",
            "9/9 [==============================] - 0s 7ms/step - loss: 0.8065 - accuracy: 0.7133 - val_loss: 0.4931 - val_accuracy: 0.8778\n",
            "Epoch 22/50\n",
            "9/9 [==============================] - 0s 7ms/step - loss: 0.7917 - accuracy: 0.7181 - val_loss: 0.4863 - val_accuracy: 0.8800\n",
            "Epoch 23/50\n",
            "9/9 [==============================] - 0s 8ms/step - loss: 0.8002 - accuracy: 0.7210 - val_loss: 0.4776 - val_accuracy: 0.8800\n",
            "Epoch 24/50\n",
            "9/9 [==============================] - 0s 8ms/step - loss: 0.7722 - accuracy: 0.7457 - val_loss: 0.4642 - val_accuracy: 0.8844\n",
            "Epoch 25/50\n",
            "9/9 [==============================] - 0s 9ms/step - loss: 0.7293 - accuracy: 0.7324 - val_loss: 0.4450 - val_accuracy: 0.8911\n",
            "Epoch 26/50\n",
            "9/9 [==============================] - 0s 7ms/step - loss: 0.7272 - accuracy: 0.7343 - val_loss: 0.4347 - val_accuracy: 0.8933\n",
            "Epoch 27/50\n",
            "9/9 [==============================] - 0s 7ms/step - loss: 0.6952 - accuracy: 0.7543 - val_loss: 0.4211 - val_accuracy: 0.8956\n",
            "Epoch 28/50\n",
            "9/9 [==============================] - 0s 7ms/step - loss: 0.6788 - accuracy: 0.7486 - val_loss: 0.4134 - val_accuracy: 0.9000\n",
            "Epoch 29/50\n",
            "9/9 [==============================] - 0s 7ms/step - loss: 0.6798 - accuracy: 0.7505 - val_loss: 0.4066 - val_accuracy: 0.9000\n",
            "Epoch 30/50\n",
            "9/9 [==============================] - 0s 7ms/step - loss: 0.6056 - accuracy: 0.7848 - val_loss: 0.3997 - val_accuracy: 0.9067\n",
            "Epoch 31/50\n",
            "9/9 [==============================] - 0s 9ms/step - loss: 0.6236 - accuracy: 0.7867 - val_loss: 0.3992 - val_accuracy: 0.9044\n",
            "Epoch 32/50\n",
            "9/9 [==============================] - 0s 7ms/step - loss: 0.6300 - accuracy: 0.7743 - val_loss: 0.3911 - val_accuracy: 0.9156\n",
            "Epoch 33/50\n",
            "9/9 [==============================] - 0s 7ms/step - loss: 0.6175 - accuracy: 0.7848 - val_loss: 0.3844 - val_accuracy: 0.9156\n",
            "Epoch 34/50\n",
            "9/9 [==============================] - 0s 8ms/step - loss: 0.6211 - accuracy: 0.7848 - val_loss: 0.3777 - val_accuracy: 0.9222\n",
            "Epoch 35/50\n",
            "9/9 [==============================] - 0s 8ms/step - loss: 0.5968 - accuracy: 0.7905 - val_loss: 0.3698 - val_accuracy: 0.9178\n",
            "Epoch 36/50\n",
            "9/9 [==============================] - 0s 7ms/step - loss: 0.6251 - accuracy: 0.7876 - val_loss: 0.3687 - val_accuracy: 0.9222\n",
            "Epoch 37/50\n",
            "9/9 [==============================] - 0s 8ms/step - loss: 0.5657 - accuracy: 0.7943 - val_loss: 0.3643 - val_accuracy: 0.9222\n",
            "Epoch 38/50\n",
            "9/9 [==============================] - 0s 7ms/step - loss: 0.5142 - accuracy: 0.8200 - val_loss: 0.3587 - val_accuracy: 0.9200\n",
            "Epoch 39/50\n",
            "9/9 [==============================] - 0s 7ms/step - loss: 0.5608 - accuracy: 0.8000 - val_loss: 0.3589 - val_accuracy: 0.9200\n",
            "Epoch 40/50\n",
            "9/9 [==============================] - 0s 7ms/step - loss: 0.5261 - accuracy: 0.8162 - val_loss: 0.3629 - val_accuracy: 0.9111\n",
            "Epoch 41/50\n",
            "9/9 [==============================] - 0s 7ms/step - loss: 0.5484 - accuracy: 0.8048 - val_loss: 0.3521 - val_accuracy: 0.9133\n",
            "Epoch 42/50\n",
            "9/9 [==============================] - 0s 7ms/step - loss: 0.5131 - accuracy: 0.8267 - val_loss: 0.3502 - val_accuracy: 0.9111\n",
            "Epoch 43/50\n",
            "9/9 [==============================] - 0s 7ms/step - loss: 0.4909 - accuracy: 0.8276 - val_loss: 0.3469 - val_accuracy: 0.9200\n",
            "Epoch 44/50\n",
            "9/9 [==============================] - 0s 9ms/step - loss: 0.4977 - accuracy: 0.8248 - val_loss: 0.3450 - val_accuracy: 0.9200\n",
            "Epoch 45/50\n",
            "9/9 [==============================] - 0s 7ms/step - loss: 0.5514 - accuracy: 0.8076 - val_loss: 0.3502 - val_accuracy: 0.9178\n",
            "Epoch 46/50\n",
            "9/9 [==============================] - 0s 8ms/step - loss: 0.5207 - accuracy: 0.8133 - val_loss: 0.3471 - val_accuracy: 0.9178\n",
            "Epoch 47/50\n",
            "9/9 [==============================] - 0s 7ms/step - loss: 0.5037 - accuracy: 0.8352 - val_loss: 0.3410 - val_accuracy: 0.9244\n",
            "Epoch 48/50\n",
            "9/9 [==============================] - 0s 8ms/step - loss: 0.4985 - accuracy: 0.8305 - val_loss: 0.3348 - val_accuracy: 0.9244\n",
            "Epoch 49/50\n",
            "9/9 [==============================] - 0s 7ms/step - loss: 0.4922 - accuracy: 0.8467 - val_loss: 0.3321 - val_accuracy: 0.9267\n",
            "Epoch 50/50\n",
            "9/9 [==============================] - 0s 9ms/step - loss: 0.5028 - accuracy: 0.8352 - val_loss: 0.3274 - val_accuracy: 0.9222\n"
          ]
        }
      ]
    },
    {
      "cell_type": "code",
      "source": [
        "# Representación gráfica del entrenamiento\n",
        "from matplotlib import pyplot\n",
        "pyplot.plot(historia.history['loss'], label='entrenamiento')\n",
        "pyplot.plot(historia.history['val_loss'], label='prueba')\n",
        "pyplot.legend()\n",
        "pyplot.show()"
      ],
      "metadata": {
        "colab": {
          "base_uri": "https://localhost:8080/",
          "height": 265
        },
        "id": "AdQK6BV_PmLc",
        "outputId": "571c41ed-cfd2-423d-df0c-0af12d0e1620"
      },
      "execution_count": null,
      "outputs": [
        {
          "output_type": "display_data",
          "data": {
            "text/plain": [
              "<Figure size 432x288 with 1 Axes>"
            ],
            "image/png": "[encoded data removed]"
          },
          "metadata": {
            "needs_background": "light"
          }
        }
      ]
    },
    {
      "cell_type": "markdown",
      "source": [
        "# Presentación de la performance del modelo"
      ],
      "metadata": {
        "id": "IjF5yJYBBu0d"
      }
    },
    {
      "cell_type": "code",
      "source": [
        "print('\\n# DATOS DE PRUEBA #\\n')\n",
        "puntaje = modelo.evaluate(X_test, y_test)\n",
        "print(\"%s: %.2f%%\" % (modelo.metrics_names[1], puntaje[1]*100))\n",
        "\n",
        "# Predicción\n",
        "mostrarPrediccion(X_test, y_test)"
      ],
      "metadata": {
        "colab": {
          "base_uri": "https://localhost:8080/"
        },
        "id": "nBXqygHuPpE1",
        "outputId": "00a46f4a-d1af-4597-f869-62a8a9e37d8a"
      },
      "execution_count": null,
      "outputs": [
        {
          "output_type": "stream",
          "name": "stdout",
          "text": [
            "\n",
            "# DATOS DE PRUEBA #\n",
            "\n",
            "1/1 [==============================] - 0s 18ms/step - loss: 0.2402 - accuracy: 0.9333\n",
            "accuracy: 93.33%\n",
            "\n",
            "# Generando predicciones...\n",
            "y=4 | predicción=[4] | Coincidencia=True\n",
            "y=6 | predicción=[6] | Coincidencia=True\n",
            "y=9 | predicción=[9] | Coincidencia=True\n",
            "y=5 | predicción=[5] | Coincidencia=True\n",
            "y=6 | predicción=[6] | Coincidencia=True\n",
            "y=4 | predicción=[4] | Coincidencia=True\n",
            "y=0 | predicción=[0] | Coincidencia=True\n",
            "y=7 | predicción=[7] | Coincidencia=True\n",
            "y=9 | predicción=[9] | Coincidencia=True\n",
            "y=1 | predicción=[1] | Coincidencia=True\n",
            "y=8 | predicción=[8] | Coincidencia=True\n",
            "y=0 | predicción=[0] | Coincidencia=True\n",
            "y=8 | predicción=[8] | Coincidencia=True\n",
            "y=0 | predicción=[2] | Coincidencia=False\n",
            "y=2 | predicción=[2] | Coincidencia=True\n",
            "y=1 | predicción=[1] | Coincidencia=True\n",
            "y=5 | predicción=[5] | Coincidencia=True\n",
            "y=5 | predicción=[5] | Coincidencia=True\n",
            "y=3 | predicción=[3] | Coincidencia=True\n",
            "y=4 | predicción=[4] | Coincidencia=True\n",
            "y=6 | predicción=[6] | Coincidencia=True\n",
            "y=1 | predicción=[4] | Coincidencia=False\n",
            "y=8 | predicción=[8] | Coincidencia=True\n",
            "y=3 | predicción=[3] | Coincidencia=True\n",
            "y=2 | predicción=[2] | Coincidencia=True\n",
            "y=7 | predicción=[7] | Coincidencia=True\n",
            "y=7 | predicción=[7] | Coincidencia=True\n",
            "y=2 | predicción=[2] | Coincidencia=True\n",
            "y=9 | predicción=[9] | Coincidencia=True\n",
            "y=3 | predicción=[3] | Coincidencia=True\n"
          ]
        }
      ]
    },
    {
      "cell_type": "code",
      "source": [
        "print('\\n# DATOS DE PRUEBA EXTRA #\\n')\n",
        "puntaje = modelo.evaluate(X_extra_test, y_extra_test)\n",
        "print(\"%s: %.2f%%\" % (modelo.metrics_names[1], puntaje[1]*100))\n",
        "\n",
        "# Predicción\n",
        "mostrarPrediccion(X_extra_test, y_extra_test)"
      ],
      "metadata": {
        "colab": {
          "base_uri": "https://localhost:8080/"
        },
        "id": "EuEEkTk5PreE",
        "outputId": "d3200ff1-432e-4861-9993-9413931751a1"
      },
      "execution_count": null,
      "outputs": [
        {
          "output_type": "stream",
          "name": "stdout",
          "text": [
            "\n",
            "# DATOS DE PRUEBA EXTRA #\n",
            "\n",
            "1/1 [==============================] - 0s 17ms/step - loss: 2.1767 - accuracy: 0.3000\n",
            "accuracy: 30.00%\n",
            "\n",
            "# Generando predicciones...\n",
            "y=9 | predicción=[2] | Coincidencia=False\n",
            "y=6 | predicción=[7] | Coincidencia=False\n",
            "y=5 | predicción=[2] | Coincidencia=False\n",
            "y=8 | predicción=[6] | Coincidencia=False\n",
            "y=3 | predicción=[8] | Coincidencia=False\n",
            "y=1 | predicción=[1] | Coincidencia=True\n",
            "y=2 | predicción=[2] | Coincidencia=True\n",
            "y=2 | predicción=[8] | Coincidencia=False\n",
            "y=7 | predicción=[6] | Coincidencia=False\n",
            "y=3 | predicción=[2] | Coincidencia=False\n",
            "y=4 | predicción=[5] | Coincidencia=False\n",
            "y=4 | predicción=[5] | Coincidencia=False\n",
            "y=9 | predicción=[9] | Coincidencia=True\n",
            "y=8 | predicción=[6] | Coincidencia=False\n",
            "y=4 | predicción=[4] | Coincidencia=True\n",
            "y=0 | predicción=[2] | Coincidencia=False\n",
            "y=0 | predicción=[6] | Coincidencia=False\n",
            "y=8 | predicción=[8] | Coincidencia=True\n",
            "y=1 | predicción=[1] | Coincidencia=True\n",
            "y=5 | predicción=[5] | Coincidencia=True\n",
            "y=5 | predicción=[5] | Coincidencia=True\n",
            "y=9 | predicción=[0] | Coincidencia=False\n",
            "y=6 | predicción=[6] | Coincidencia=True\n",
            "y=3 | predicción=[2] | Coincidencia=False\n",
            "y=7 | predicción=[9] | Coincidencia=False\n",
            "y=1 | predicción=[5] | Coincidencia=False\n",
            "y=7 | predicción=[1] | Coincidencia=False\n",
            "y=6 | predicción=[8] | Coincidencia=False\n",
            "y=0 | predicción=[1] | Coincidencia=False\n",
            "y=2 | predicción=[1] | Coincidencia=False\n"
          ]
        }
      ]
    },
    {
      "cell_type": "code",
      "source": [
        "print(\"Reporte de Clasificación para Datos de Prueba\\n\")\n",
        "reporte(X_test, y_test)\n",
        "\n",
        "print(\"Reporte de Clasificación para Datos de Prueba Extra\\n\")\n",
        "reporte(X_extra_test, y_extra_test)"
      ],
      "metadata": {
        "colab": {
          "base_uri": "https://localhost:8080/",
          "height": 1000
        },
        "id": "-N9y--ViPvSc",
        "outputId": "6355f962-b64d-4a69-d317-5b172f08d9e1"
      },
      "execution_count": null,
      "outputs": [
        {
          "output_type": "stream",
          "name": "stdout",
          "text": [
            "Reporte de Clasificación para Datos de Prueba\n",
            "\n",
            "Matriz de Confusión\n",
            "[[2 0 1 0 0 0 0 0 0 0]\n",
            " [0 2 0 0 1 0 0 0 0 0]\n",
            " [0 0 3 0 0 0 0 0 0 0]\n",
            " [0 0 0 3 0 0 0 0 0 0]\n",
            " [0 0 0 0 3 0 0 0 0 0]\n",
            " [0 0 0 0 0 3 0 0 0 0]\n",
            " [0 0 0 0 0 0 3 0 0 0]\n",
            " [0 0 0 0 0 0 0 3 0 0]\n",
            " [0 0 0 0 0 0 0 0 3 0]\n",
            " [0 0 0 0 0 0 0 0 0 3]]\n"
          ]
        },
        {
          "output_type": "display_data",
          "data": {
            "text/plain": [
              "<Figure size 288x288 with 1 Axes>"
            ],
            "image/png": "[encoded data removed]"
          },
          "metadata": {
            "needs_background": "light"
          }
        },
        {
          "output_type": "stream",
          "name": "stdout",
          "text": [
            "\n",
            "Reporte de Clasificación\n",
            "              precision    recall  f1-score   support\n",
            "\n",
            "           0       1.00      0.67      0.80         3\n",
            "           1       1.00      0.67      0.80         3\n",
            "           2       0.75      1.00      0.86         3\n",
            "           3       1.00      1.00      1.00         3\n",
            "           4       0.75      1.00      0.86         3\n",
            "           5       1.00      1.00      1.00         3\n",
            "           6       1.00      1.00      1.00         3\n",
            "           7       1.00      1.00      1.00         3\n",
            "           8       1.00      1.00      1.00         3\n",
            "           9       1.00      1.00      1.00         3\n",
            "\n",
            "    accuracy                           0.93        30\n",
            "   macro avg       0.95      0.93      0.93        30\n",
            "weighted avg       0.95      0.93      0.93        30\n",
            "\n",
            "Reporte de Clasificación para Datos de Prueba Extra\n",
            "\n",
            "Matriz de Confusión\n",
            "[[0 1 1 0 0 0 1 0 0 0]\n",
            " [0 2 0 0 0 1 0 0 0 0]\n",
            " [0 1 1 0 0 0 0 0 1 0]\n",
            " [0 0 2 0 0 0 0 0 1 0]\n",
            " [0 0 0 0 1 2 0 0 0 0]\n",
            " [0 0 1 0 0 2 0 0 0 0]\n",
            " [0 0 0 0 0 0 1 1 1 0]\n",
            " [0 1 0 0 0 0 1 0 0 1]\n",
            " [0 0 0 0 0 0 2 0 1 0]\n",
            " [1 0 1 0 0 0 0 0 0 1]]\n"
          ]
        },
        {
          "output_type": "display_data",
          "data": {
            "text/plain": [
              "<Figure size 288x288 with 1 Axes>"
            ],
            "image/png": "[encoded data removed]"
          },
          "metadata": {
            "needs_background": "light"
          }
        },
        {
          "output_type": "stream",
          "name": "stdout",
          "text": [
            "\n",
            "Reporte de Clasificación\n",
            "              precision    recall  f1-score   support\n",
            "\n",
            "           0       0.00      0.00      0.00         3\n",
            "           1       0.40      0.67      0.50         3\n",
            "           2       0.17      0.33      0.22         3\n",
            "           3       0.00      0.00      0.00         3\n",
            "           4       1.00      0.33      0.50         3\n",
            "           5       0.40      0.67      0.50         3\n",
            "           6       0.20      0.33      0.25         3\n",
            "           7       0.00      0.00      0.00         3\n",
            "           8       0.25      0.33      0.29         3\n",
            "           9       0.50      0.33      0.40         3\n",
            "\n",
            "    accuracy                           0.30        30\n",
            "   macro avg       0.29      0.30      0.27        30\n",
            "weighted avg       0.29      0.30      0.27        30\n",
            "\n"
          ]
        },
        {
          "output_type": "stream",
          "name": "stderr",
          "text": [
            "/usr/local/lib/python3.7/dist-packages/sklearn/metrics/_classification.py:1318: UndefinedMetricWarning: Precision and F-score are ill-defined and being set to 0.0 in labels with no predicted samples. Use `zero_division` parameter to control this behavior.\n",
            "  _warn_prf(average, modifier, msg_start, len(result))\n",
            "/usr/local/lib/python3.7/dist-packages/sklearn/metrics/_classification.py:1318: UndefinedMetricWarning: Precision and F-score are ill-defined and being set to 0.0 in labels with no predicted samples. Use `zero_division` parameter to control this behavior.\n",
            "  _warn_prf(average, modifier, msg_start, len(result))\n",
            "/usr/local/lib/python3.7/dist-packages/sklearn/metrics/_classification.py:1318: UndefinedMetricWarning: Precision and F-score are ill-defined and being set to 0.0 in labels with no predicted samples. Use `zero_division` parameter to control this behavior.\n",
            "  _warn_prf(average, modifier, msg_start, len(result))\n"
          ]
        }
      ]
    }
  ]
}